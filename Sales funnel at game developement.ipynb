{
 "cells": [
  {
   "cell_type": "markdown",
   "metadata": {},
   "source": [
    "## ЦЕЛИ ПРОЕКТА\n",
    "\n",
    "Создатели quiz-игры хотят выяснить, как меняется поведения пользователей в зависиииости от факта прохождения обучения приложении и количества таких прохождений\n",
    "\n",
    "Перед нами стоит три цели:\n",
    "\n",
    "\n",
    "    - Проверить, отличается ли время прохождения различных этапов для пользователей, которые прошли обучение, от пользователей, не начинавших обучение. \n",
    "\n",
    "    - Посмотреть, существует ли зависимость между вероятностью оплаты вопросов и количеством обучений, которые начинал или завершал пользователь. \n",
    "\n",
    "    - Дополнительная задача. Как часто пользователи начинают обучение после того, как они выбрали уровень сложности? \n",
    "\n",
    "Кроме того, необходимо представить визуалицаию полученных ответов."
   ]
  },
  {
   "cell_type": "markdown",
   "metadata": {},
   "source": [
    "### Проведем подготовку данных"
   ]
  },
  {
   "cell_type": "code",
   "execution_count": 1,
   "metadata": {},
   "outputs": [],
   "source": [
    "#Загрузим все необходимые библиотеки\n",
    "import pandas as pd\n",
    "import matplotlib.pyplot as plt\n",
    "import seaborn as sns\n",
    "%matplotlib inline"
   ]
  },
  {
   "cell_type": "code",
   "execution_count": 2,
   "metadata": {},
   "outputs": [],
   "source": [
    "#Загрузим файлы с данными\n",
    "# events_df = pd.read_csv('D:\\Мои Файлы\\Работать\\Events.csv')\n",
    "# purchase_df = pd.read_csv('D:\\Мои Файлы\\Работать\\purchase.csv')\n",
    "\n",
    "events_df = pd.read_csv('7_4_Events.csv')\n",
    "purchase_df = pd.read_csv('purchase.csv')"
   ]
  },
  {
   "cell_type": "code",
   "execution_count": 3,
   "metadata": {},
   "outputs": [],
   "source": [
    "# Создадим датафрейм для игроков, зарегистрировавшихся в 2018 году\n",
    "reg_2018 = (events_df.start_time>='2018-01-01')&(events_df.start_time<'2019-01-01')&(events_df.event_type=='registration')\n",
    "registered18 = events_df[reg_2018].user_id.to_list() \n",
    "events18 = events_df[events_df.user_id.isin(registered18)].copy()\n",
    "# Таким же образом создадим датафрейм для сделавших покупки в 2018 году\n",
    "purchase18 = purchase_df[purchase_df.user_id.isin(registered18)].copy()\n",
    "# Отформатируем даты в этих датафрeймах\n",
    "events18.start_time = pd.to_datetime(events18.start_time, format='%Y-%m-%dT%H:%M:%S')\n",
    "purchase18.event_datetime = pd.to_datetime(purchase18.event_datetime, format='%Y-%m-%dT%H:%M:%S')\n",
    "# Переиминeем колонки\n",
    "events18 = events18.rename(columns = {'id': 'event_id'})\n",
    "purchase18 = purchase18.rename(columns = {'id':'purchase_id', 'event_datetime':'start_time'})\n",
    "purchase18['event_type'] = 'purchase'\n",
    "# Объединим датафреймы\n",
    "total_events18 = pd.concat([events18, purchase18], ignore_index=True)"
   ]
  },
  {
   "cell_type": "code",
   "execution_count": 4,
   "metadata": {},
   "outputs": [],
   "source": [
    "#Создадим группы пользователей по пройденным этапам\n",
    "registered_users = events18[events18['event_type'] == 'registration']['user_id'].nunique()\n",
    "tutorial_started_users = events18[events18['event_type'] == 'tutorial_start']['user_id'].nunique()\n",
    "tutorial_finish_users = events18[events18['event_type'] == 'tutorial_finish']['user_id'].nunique()\n",
    "tutorial_not_started_users = registered_users - tutorial_started_users\n",
    "level_choice_users = events18[events18['event_type'] == 'level_choice']['user_id'].nunique()\n",
    "pack_choice_users = events18[events18['event_type'] == 'pack_choice']['user_id'].nunique()\n",
    "purchase_users = purchase18['user_id'].nunique()"
   ]
  },
  {
   "cell_type": "markdown",
   "metadata": {},
   "source": [
    "### Задача №1\n",
    "Перейдем к выполнению первого задания и проверим, отличается ли время прохождения различных этапов для пользователей, которые прошли обучение, от пользователей, не начинавших обучение."
   ]
  },
  {
   "cell_type": "code",
   "execution_count": 5,
   "metadata": {},
   "outputs": [
    {
     "data": {
      "text/html": [
       "<div>\n",
       "<style scoped>\n",
       "    .dataframe tbody tr th:only-of-type {\n",
       "        vertical-align: middle;\n",
       "    }\n",
       "\n",
       "    .dataframe tbody tr th {\n",
       "        vertical-align: top;\n",
       "    }\n",
       "\n",
       "    .dataframe thead tr th {\n",
       "        text-align: left;\n",
       "    }\n",
       "\n",
       "    .dataframe thead tr:last-of-type th {\n",
       "        text-align: right;\n",
       "    }\n",
       "</style>\n",
       "<table border=\"1\" class=\"dataframe\">\n",
       "  <thead>\n",
       "    <tr>\n",
       "      <th></th>\n",
       "      <th colspan=\"6\" halign=\"left\">start_time</th>\n",
       "    </tr>\n",
       "    <tr>\n",
       "      <th>event_type</th>\n",
       "      <th>level_choice</th>\n",
       "      <th>pack_choice</th>\n",
       "      <th>purchase</th>\n",
       "      <th>registration</th>\n",
       "      <th>tutorial_finish</th>\n",
       "      <th>tutorial_start</th>\n",
       "    </tr>\n",
       "    <tr>\n",
       "      <th>user_id</th>\n",
       "      <th></th>\n",
       "      <th></th>\n",
       "      <th></th>\n",
       "      <th></th>\n",
       "      <th></th>\n",
       "      <th></th>\n",
       "    </tr>\n",
       "  </thead>\n",
       "  <tbody>\n",
       "    <tr>\n",
       "      <th>27832</th>\n",
       "      <td>NaT</td>\n",
       "      <td>NaT</td>\n",
       "      <td>NaT</td>\n",
       "      <td>2018-01-01 03:48:40</td>\n",
       "      <td>NaT</td>\n",
       "      <td>NaT</td>\n",
       "    </tr>\n",
       "    <tr>\n",
       "      <th>27833</th>\n",
       "      <td>NaT</td>\n",
       "      <td>NaT</td>\n",
       "      <td>NaT</td>\n",
       "      <td>2018-01-01 04:07:25</td>\n",
       "      <td>2018-01-01 17:50:08</td>\n",
       "      <td>2018-01-01 17:47:40</td>\n",
       "    </tr>\n",
       "    <tr>\n",
       "      <th>27834</th>\n",
       "      <td>NaT</td>\n",
       "      <td>NaT</td>\n",
       "      <td>NaT</td>\n",
       "      <td>2018-01-01 08:35:10</td>\n",
       "      <td>2018-01-01 19:48:01</td>\n",
       "      <td>2018-01-01 19:46:11</td>\n",
       "    </tr>\n",
       "    <tr>\n",
       "      <th>27835</th>\n",
       "      <td>2018-01-01 20:37:22</td>\n",
       "      <td>2018-01-01 20:38:43</td>\n",
       "      <td>NaT</td>\n",
       "      <td>2018-01-01 11:54:47</td>\n",
       "      <td>2018-01-01 15:06:15</td>\n",
       "      <td>2018-01-01 15:00:51</td>\n",
       "    </tr>\n",
       "    <tr>\n",
       "      <th>27836</th>\n",
       "      <td>NaT</td>\n",
       "      <td>NaT</td>\n",
       "      <td>NaT</td>\n",
       "      <td>2018-01-01 13:28:07</td>\n",
       "      <td>2018-01-01 15:42:58</td>\n",
       "      <td>2018-01-01 14:54:40</td>\n",
       "    </tr>\n",
       "  </tbody>\n",
       "</table>\n",
       "</div>"
      ],
      "text/plain": [
       "                    start_time                               \\\n",
       "event_type        level_choice         pack_choice purchase   \n",
       "user_id                                                       \n",
       "27832                      NaT                 NaT      NaT   \n",
       "27833                      NaT                 NaT      NaT   \n",
       "27834                      NaT                 NaT      NaT   \n",
       "27835      2018-01-01 20:37:22 2018-01-01 20:38:43      NaT   \n",
       "27836                      NaT                 NaT      NaT   \n",
       "\n",
       "                                                                        \n",
       "event_type        registration     tutorial_finish      tutorial_start  \n",
       "user_id                                                                 \n",
       "27832      2018-01-01 03:48:40                 NaT                 NaT  \n",
       "27833      2018-01-01 04:07:25 2018-01-01 17:50:08 2018-01-01 17:47:40  \n",
       "27834      2018-01-01 08:35:10 2018-01-01 19:48:01 2018-01-01 19:46:11  \n",
       "27835      2018-01-01 11:54:47 2018-01-01 15:06:15 2018-01-01 15:00:51  \n",
       "27836      2018-01-01 13:28:07 2018-01-01 15:42:58 2018-01-01 14:54:40  "
      ]
     },
     "execution_count": 5,
     "metadata": {},
     "output_type": "execute_result"
    }
   ],
   "source": [
    "#Организуем сводную таблицу на основе датафрейма\n",
    "pivot = total_events18.pivot_table(values =['start_time'], index = ['user_id'],\n",
    "                      columns = ['event_type'],\n",
    "                      aggfunc = 'min')\n",
    "pivot.head()\n",
    "\n"
   ]
  },
  {
   "cell_type": "code",
   "execution_count": 6,
   "metadata": {},
   "outputs": [],
   "source": [
    "#Сбросим двойную индескацию и сделаем user_id отдельной колонкой\n",
    "pivot.columns=list(map('_'.join,pivot))\n",
    "flattened_df = pivot.reset_index()"
   ]
  },
  {
   "cell_type": "code",
   "execution_count": 7,
   "metadata": {},
   "outputs": [],
   "source": [
    "#Введем в таблицу колонки с временными промежутками между событиями\n",
    "flattened_df['tmdlt Reg - LevCh'] = flattened_df['start_time_level_choice'] - flattened_df['start_time_registration']\n",
    "flattened_df['tmdlt Reg - PackCh'] = flattened_df['start_time_pack_choice'] - flattened_df['start_time_registration']\n",
    "flattened_df['tmdlt LevCh - PackCh'] = flattened_df['start_time_pack_choice'] - flattened_df['start_time_level_choice']\n",
    "flattened_df['tmdlt LevCh - Pur'] = flattened_df['start_time_purchase'] - flattened_df['start_time_level_choice']\n",
    "flattened_df['tmdlt PackCh - Pur'] = flattened_df['start_time_purchase'] - flattened_df['start_time_pack_choice']\n",
    "flattened_df['tmdlt Reg - Pur'] = flattened_df['start_time_purchase'] - flattened_df['start_time_registration']"
   ]
  },
  {
   "cell_type": "code",
   "execution_count": 8,
   "metadata": {},
   "outputs": [],
   "source": [
    "#Выделим из общего датафрейма такой, которой касался бы только игроков, закончивших обучение\n",
    "tutorial_finish_users_1 = events18[events18['event_type'] == 'tutorial_finish']['user_id'].unique()\n",
    "tutorial_finished = flattened_df[flattened_df.user_id.isin(tutorial_finish_users_1)]\n"
   ]
  },
  {
   "cell_type": "code",
   "execution_count": 9,
   "metadata": {},
   "outputs": [],
   "source": [
    "#Сделаем то же для тех игроков, кто не ничинал обучение\n",
    "tutorial_started_users_1 = set(events18[events18['event_type'] == 'tutorial_start']['user_id'])\n",
    "registered_users_1 = set(events18[events18['event_type'] == 'registration']['user_id'])\n",
    "tutorial_not_started_users = registered_users_1 - tutorial_started_users_1\n",
    "\n",
    "tutorial_not_started = flattened_df[flattened_df.user_id.isin(tutorial_not_started_users)]"
   ]
  },
  {
   "cell_type": "code",
   "execution_count": 10,
   "metadata": {},
   "outputs": [],
   "source": [
    "#Для обеих групп пользователей выясним среднее время между различными этапами, переведя его в удобный формат\n",
    "f_Reg_LevCh = (tutorial_finished['tmdlt Reg - LevCh']/pd.Timedelta('1 hour')).mean()\n",
    "f_Reg_PackCh = (tutorial_finished['tmdlt Reg - PackCh']/pd.Timedelta('1 hour')).mean()\n",
    "f_LevCh_PackCh = (tutorial_finished['tmdlt LevCh - PackCh']/pd.Timedelta('1 minute')).mean()\n",
    "f_LevCh_Pur = (tutorial_finished['tmdlt LevCh - Pur']/pd.Timedelta('1 hour')).mean()\n",
    "f_PackCh_Pur = (tutorial_finished['tmdlt PackCh - Pur']/pd.Timedelta('1 hour')).mean()\n",
    "f_Reg_Pur = (tutorial_finished['tmdlt Reg - Pur']/pd.Timedelta('1 hour')).mean()\n",
    "\n",
    "n_Reg_LevCh = (tutorial_not_started['tmdlt Reg - LevCh']/pd.Timedelta('1 hour')).mean()\n",
    "n_Reg_PackCh = (tutorial_not_started['tmdlt Reg - PackCh']/pd.Timedelta('1 hour')).mean()\n",
    "n_LevCh_PackCh = (tutorial_not_started['tmdlt LevCh - PackCh']/pd.Timedelta('1 minute')).mean()\n",
    "n_LevCh_Pur = (tutorial_not_started['tmdlt LevCh - Pur']/pd.Timedelta('1 hour')).mean()\n",
    "n_PackCh_Pur = (tutorial_not_started['tmdlt PackCh - Pur']/pd.Timedelta('1 hour')).mean()\n",
    "n_Reg_Pur = (tutorial_not_started['tmdlt Reg - Pur']/pd.Timedelta('1 hour')).mean()"
   ]
  },
  {
   "cell_type": "code",
   "execution_count": 11,
   "metadata": {},
   "outputs": [
    {
     "data": {
      "text/html": [
       "<div>\n",
       "<style scoped>\n",
       "    .dataframe tbody tr th:only-of-type {\n",
       "        vertical-align: middle;\n",
       "    }\n",
       "\n",
       "    .dataframe tbody tr th {\n",
       "        vertical-align: top;\n",
       "    }\n",
       "\n",
       "    .dataframe thead th {\n",
       "        text-align: right;\n",
       "    }\n",
       "</style>\n",
       "<table border=\"1\" class=\"dataframe\">\n",
       "  <thead>\n",
       "    <tr style=\"text-align: right;\">\n",
       "      <th></th>\n",
       "      <th>user_type</th>\n",
       "      <th>Reg_LevCh</th>\n",
       "      <th>Reg_PackCh</th>\n",
       "      <th>LevCh_PackCh</th>\n",
       "      <th>LevCh_Pur</th>\n",
       "      <th>PackCh_Pur</th>\n",
       "      <th>Reg_Pur</th>\n",
       "    </tr>\n",
       "  </thead>\n",
       "  <tbody>\n",
       "    <tr>\n",
       "      <th>0</th>\n",
       "      <td>not_started</td>\n",
       "      <td>5.259201</td>\n",
       "      <td>5.121160</td>\n",
       "      <td>5.397072</td>\n",
       "      <td>100.915631</td>\n",
       "      <td>100.825997</td>\n",
       "      <td>105.100530</td>\n",
       "    </tr>\n",
       "    <tr>\n",
       "      <th>1</th>\n",
       "      <td>finished</td>\n",
       "      <td>7.093571</td>\n",
       "      <td>7.176572</td>\n",
       "      <td>5.302434</td>\n",
       "      <td>89.390265</td>\n",
       "      <td>89.299900</td>\n",
       "      <td>96.500902</td>\n",
       "    </tr>\n",
       "  </tbody>\n",
       "</table>\n",
       "</div>"
      ],
      "text/plain": [
       "     user_type  Reg_LevCh  Reg_PackCh  LevCh_PackCh   LevCh_Pur  PackCh_Pur  \\\n",
       "0  not_started   5.259201    5.121160      5.397072  100.915631  100.825997   \n",
       "1     finished   7.093571    7.176572      5.302434   89.390265   89.299900   \n",
       "\n",
       "      Reg_Pur  \n",
       "0  105.100530  \n",
       "1   96.500902  "
      ]
     },
     "execution_count": 11,
     "metadata": {},
     "output_type": "execute_result"
    }
   ],
   "source": [
    "#Объединим полученные значения в новый датафрейм, который нам понадобится для визуализации\n",
    "means_merge= pd.DataFrame({'user_type': ['not_started', 'finished'],'Reg_LevCh':[n_Reg_LevCh, f_Reg_LevCh],\n",
    "                            'Reg_PackCh':[n_Reg_PackCh, f_Reg_PackCh], 'LevCh_PackCh':[n_LevCh_PackCh, f_LevCh_PackCh],\n",
    "                            'LevCh_Pur':[n_LevCh_Pur, f_LevCh_Pur],'PackCh_Pur':[n_PackCh_Pur,f_PackCh_Pur],'Reg_Pur':[n_Reg_Pur,f_Reg_Pur]})\n",
    "means_merge"
   ]
  },
  {
   "cell_type": "code",
   "execution_count": 12,
   "metadata": {},
   "outputs": [
    {
     "data": {
      "text/plain": [
       "<AxesSubplot:xlabel='user_type', ylabel='Reg_LevCh'>"
      ]
     },
     "execution_count": 12,
     "metadata": {},
     "output_type": "execute_result"
    },
    {
     "data": {
      "image/png": "[encoded data removed]",
      "text/plain": [
       "<Figure size 432x288 with 1 Axes>"
      ]
     },
     "metadata": {
      "needs_background": "light"
     },
     "output_type": "display_data"
    }
   ],
   "source": [
    "#Проведем визуалицацию полученных данных\n",
    "#Начнем со времени между регистрацией и выбором уровня сложности\n",
    "sns.barplot(x = 'user_type', y = 'Reg_LevCh', data = means_merge)"
   ]
  },
  {
   "cell_type": "code",
   "execution_count": 13,
   "metadata": {},
   "outputs": [
    {
     "data": {
      "text/plain": [
       "<AxesSubplot:xlabel='user_type', ylabel='Reg_PackCh'>"
      ]
     },
     "execution_count": 13,
     "metadata": {},
     "output_type": "execute_result"
    },
    {
     "data": {
      "image/png": "[encoded data removed]",
      "text/plain": [
       "<Figure size 432x288 with 1 Axes>"
      ]
     },
     "metadata": {
      "needs_background": "light"
     },
     "output_type": "display_data"
    }
   ],
   "source": [
    "#Промежуток между регистрацией и выбором пакета вопросов\n",
    "sns.barplot(x = 'user_type', y = 'Reg_PackCh', data = means_merge)"
   ]
  },
  {
   "cell_type": "code",
   "execution_count": 14,
   "metadata": {},
   "outputs": [
    {
     "data": {
      "text/plain": [
       "<AxesSubplot:xlabel='user_type', ylabel='LevCh_PackCh'>"
      ]
     },
     "execution_count": 14,
     "metadata": {},
     "output_type": "execute_result"
    },
    {
     "data": {
      "image/png": "[encoded data removed]",
      "text/plain": [
       "<Figure size 432x288 with 1 Axes>"
      ]
     },
     "metadata": {
      "needs_background": "light"
     },
     "output_type": "display_data"
    }
   ],
   "source": [
    "#Выбор уровня сложности и выбор пакета вопросов\n",
    "sns.barplot(x = 'user_type', y = 'LevCh_PackCh', data = means_merge)"
   ]
  },
  {
   "cell_type": "code",
   "execution_count": 15,
   "metadata": {},
   "outputs": [
    {
     "data": {
      "text/plain": [
       "<AxesSubplot:xlabel='user_type', ylabel='LevCh_Pur'>"
      ]
     },
     "execution_count": 15,
     "metadata": {},
     "output_type": "execute_result"
    },
    {
     "data": {
      "image/png": "[encoded data removed]",
      "text/plain": [
       "<Figure size 432x288 with 1 Axes>"
      ]
     },
     "metadata": {
      "needs_background": "light"
     },
     "output_type": "display_data"
    }
   ],
   "source": [
    "#Время между выбором уровня сложности и покупкой\n",
    "sns.barplot(x = 'user_type', y = 'LevCh_Pur', data = means_merge)"
   ]
  },
  {
   "cell_type": "code",
   "execution_count": 16,
   "metadata": {},
   "outputs": [
    {
     "data": {
      "text/plain": [
       "<AxesSubplot:xlabel='user_type', ylabel='PackCh_Pur'>"
      ]
     },
     "execution_count": 16,
     "metadata": {},
     "output_type": "execute_result"
    },
    {
     "data": {
      "image/png": "[encoded data removed]",
      "text/plain": [
       "<Figure size 432x288 with 1 Axes>"
      ]
     },
     "metadata": {
      "needs_background": "light"
     },
     "output_type": "display_data"
    }
   ],
   "source": [
    "#Промежуток между выбором пакета вопросов и покупкой\n",
    "sns.barplot(x = 'user_type', y = 'PackCh_Pur', data = means_merge)"
   ]
  },
  {
   "cell_type": "code",
   "execution_count": 17,
   "metadata": {
    "scrolled": false
   },
   "outputs": [
    {
     "data": {
      "text/plain": [
       "<AxesSubplot:xlabel='user_type', ylabel='Reg_Pur'>"
      ]
     },
     "execution_count": 17,
     "metadata": {},
     "output_type": "execute_result"
    },
    {
     "data": {
      "image/png": "[encoded data removed]",
      "text/plain": [
       "<Figure size 432x288 with 1 Axes>"
      ]
     },
     "metadata": {
      "needs_background": "light"
     },
     "output_type": "display_data"
    }
   ],
   "source": [
    "#Время между регистрацией и покупкой\n",
    "sns.barplot(x = 'user_type', y = 'Reg_Pur', data = means_merge)"
   ]
  },
  {
   "cell_type": "markdown",
   "metadata": {},
   "source": [
    "**Вывод №1**\n",
    "\n",
    "В ходе анализа удалось установить, прошедшие обучение пользователи совершают покупки в приложении быстрее. В среднем для таких игроков время между регисрацией, выбором уровня сложности или выбором пакета бесплатных вопросов, с одной стороны, и покупкой, с другой, **короче на 10,5 часов**, чем для не проходивших обучение игроков. "
   ]
  },
  {
   "cell_type": "code",
   "execution_count": null,
   "metadata": {},
   "outputs": [],
   "source": []
  },
  {
   "cell_type": "code",
   "execution_count": null,
   "metadata": {},
   "outputs": [],
   "source": []
  },
  {
   "cell_type": "code",
   "execution_count": null,
   "metadata": {},
   "outputs": [],
   "source": []
  },
  {
   "cell_type": "markdown",
   "metadata": {},
   "source": [
    "### Задача №2\n",
    "Перейдем ко второму заданию и проверим, существует ли зависимость между вероятностью оплаты вопросов и количеством обучений, которые начинал или завершал пользователь"
   ]
  },
  {
   "cell_type": "code",
   "execution_count": 18,
   "metadata": {},
   "outputs": [
    {
     "data": {
      "text/html": [
       "<div>\n",
       "<style scoped>\n",
       "    .dataframe tbody tr th:only-of-type {\n",
       "        vertical-align: middle;\n",
       "    }\n",
       "\n",
       "    .dataframe tbody tr th {\n",
       "        vertical-align: top;\n",
       "    }\n",
       "\n",
       "    .dataframe thead th {\n",
       "        text-align: right;\n",
       "    }\n",
       "</style>\n",
       "<table border=\"1\" class=\"dataframe\">\n",
       "  <thead>\n",
       "    <tr style=\"text-align: right;\">\n",
       "      <th></th>\n",
       "      <th>num_tut_fin</th>\n",
       "      <th>user_qtty</th>\n",
       "      <th>purchase_qtty</th>\n",
       "      <th>purchase_percentage</th>\n",
       "    </tr>\n",
       "  </thead>\n",
       "  <tbody>\n",
       "    <tr>\n",
       "      <th>0</th>\n",
       "      <td>0</td>\n",
       "      <td>9676</td>\n",
       "      <td>153</td>\n",
       "      <td>1.6</td>\n",
       "    </tr>\n",
       "    <tr>\n",
       "      <th>1</th>\n",
       "      <td>1</td>\n",
       "      <td>8015</td>\n",
       "      <td>1143</td>\n",
       "      <td>14.3</td>\n",
       "    </tr>\n",
       "    <tr>\n",
       "      <th>2</th>\n",
       "      <td>2</td>\n",
       "      <td>1321</td>\n",
       "      <td>182</td>\n",
       "      <td>13.8</td>\n",
       "    </tr>\n",
       "    <tr>\n",
       "      <th>3</th>\n",
       "      <td>3</td>\n",
       "      <td>345</td>\n",
       "      <td>44</td>\n",
       "      <td>12.8</td>\n",
       "    </tr>\n",
       "    <tr>\n",
       "      <th>4</th>\n",
       "      <td>4</td>\n",
       "      <td>178</td>\n",
       "      <td>19</td>\n",
       "      <td>10.7</td>\n",
       "    </tr>\n",
       "    <tr>\n",
       "      <th>5</th>\n",
       "      <td>5</td>\n",
       "      <td>117</td>\n",
       "      <td>19</td>\n",
       "      <td>16.2</td>\n",
       "    </tr>\n",
       "    <tr>\n",
       "      <th>6</th>\n",
       "      <td>6</td>\n",
       "      <td>101</td>\n",
       "      <td>15</td>\n",
       "      <td>14.9</td>\n",
       "    </tr>\n",
       "    <tr>\n",
       "      <th>7</th>\n",
       "      <td>7</td>\n",
       "      <td>97</td>\n",
       "      <td>15</td>\n",
       "      <td>15.5</td>\n",
       "    </tr>\n",
       "    <tr>\n",
       "      <th>8</th>\n",
       "      <td>8</td>\n",
       "      <td>54</td>\n",
       "      <td>6</td>\n",
       "      <td>11.1</td>\n",
       "    </tr>\n",
       "    <tr>\n",
       "      <th>9</th>\n",
       "      <td>9</td>\n",
       "      <td>22</td>\n",
       "      <td>4</td>\n",
       "      <td>18.2</td>\n",
       "    </tr>\n",
       "  </tbody>\n",
       "</table>\n",
       "</div>"
      ],
      "text/plain": [
       "   num_tut_fin  user_qtty  purchase_qtty  purchase_percentage\n",
       "0            0       9676            153                  1.6\n",
       "1            1       8015           1143                 14.3\n",
       "2            2       1321            182                 13.8\n",
       "3            3        345             44                 12.8\n",
       "4            4        178             19                 10.7\n",
       "5            5        117             19                 16.2\n",
       "6            6        101             15                 14.9\n",
       "7            7         97             15                 15.5\n",
       "8            8         54              6                 11.1\n",
       "9            9         22              4                 18.2"
      ]
     },
     "execution_count": 18,
     "metadata": {},
     "output_type": "execute_result"
    }
   ],
   "source": [
    "#Создадим датафреймы, отражающие события окончания обучения и совершения покупки для отдельных игроков\n",
    "users_count_tut=total_events18.groupby(['user_id'])['event_type'].apply(lambda x: (x=='tutorial_finish').sum()).reset_index()\n",
    "users_count_purch=total_events18.groupby(['user_id'])['event_type'].apply(lambda x: (x=='purchase').sum()).reset_index()\n",
    "#Объединим датафреймы\n",
    "tut_purch_merged=users_count_tut.merge(users_count_purch, on='user_id',how='left')\n",
    "#Переиминуем столбцы\n",
    "tut_purch_merged=tut_purch_merged.rename(columns={'event_type_x':'num_tut_fin', 'user_id':'user_qtty','event_type_y':'purchase_qtty'})\n",
    "#Сгруппируем данные по признаку количества законченных обучений на одного пользоваеля\n",
    "tut_purch_group=tut_purch_merged.groupby(['num_tut_fin']).agg({'user_qtty':'count','purchase_qtty':'sum'}).reset_index()\n",
    "#Введем в датафрейм еще один стоблец, отражащий долю сделавших покупку игровок относительно всех пользователей, прошедщих обучение то или иное количество раз\n",
    "tut_purch_group['purchase_percentage'] = tut_purch_group['purchase_qtty']/tut_purch_group['user_qtty']*100\n",
    "tut_purch_group.round({'purchase_percentage':1})"
   ]
  },
  {
   "cell_type": "code",
   "execution_count": 19,
   "metadata": {},
   "outputs": [
    {
     "data": {
      "text/plain": [
       "Text(0.5, 0, 'Количество обучений')"
      ]
     },
     "execution_count": 19,
     "metadata": {},
     "output_type": "execute_result"
    },
    {
     "data": {
      "image/png": "[encoded data removed]",
      "text/plain": [
       "<Figure size 1152x288 with 2 Axes>"
      ]
     },
     "metadata": {
      "needs_background": "light"
     },
     "output_type": "display_data"
    }
   ],
   "source": [
    "#Визуализируем полученные данные с помощью столбиковых диаграмм\n",
    "fig, axes = plt.subplots(1, 2, figsize=(16,4))\n",
    "\n",
    "\n",
    "axes[0].bar(x = tut_purch_group['num_tut_fin'], height = tut_purch_group['user_qtty'],log=True, label = 'Прошли обучение')\n",
    "axes[0].bar(x = tut_purch_group['num_tut_fin'], height = tut_purch_group['purchase_qtty'], label = 'Сделали покупки')\n",
    "axes[0].set_title('Сколько из прошедших обучение пользовтелей сделали покупки')\n",
    "axes[0].set_ylabel('Количество пользователей (чел), лог.шкала')\n",
    "axes[0].set_xlabel('Количество обучений')\n",
    "axes[0].legend(loc = 1)\n",
    "\n",
    "axes[1].bar(x = tut_purch_group['num_tut_fin'], height = tut_purch_group['purchase_percentage'])\n",
    "axes[1].set_title('Отношение верноятности покупки к количеству пройденных обучений')\n",
    "axes[1].set_ylabel('Доля сделавших покупку пользователей')\n",
    "axes[1].set_xlabel('Количество обучений')"
   ]
  },
  {
   "cell_type": "markdown",
   "metadata": {},
   "source": [
    "**Вывод №2:**\n",
    "\n",
    "Требовалось доказать, что \"успешное обучение само по себе влияет на оплату, и без разницы, каким этапом оно шло\". Проведенный анализ показал, что независимо от количества пройденных обучений сам факт его прохождения значительно увевличивает вероятность совершения игроком покупки в приложении: от **1,6%** для тех, кто не завершил обучения, до как минимум **10,7%** (прошедшие обучение 4 раза). В среднем, такие игроки совершают покупку в **14,2%** случаев."
   ]
  },
  {
   "cell_type": "code",
   "execution_count": null,
   "metadata": {},
   "outputs": [],
   "source": []
  },
  {
   "cell_type": "code",
   "execution_count": null,
   "metadata": {},
   "outputs": [],
   "source": []
  },
  {
   "cell_type": "code",
   "execution_count": null,
   "metadata": {},
   "outputs": [],
   "source": []
  },
  {
   "cell_type": "markdown",
   "metadata": {},
   "source": [
    "### Задача №3\n",
    "Перейдем к дополнительной задаче и узнаем, как часто пользователи начинают обучение после того, как они выбрали уровень сложности."
   ]
  },
  {
   "cell_type": "code",
   "execution_count": 20,
   "metadata": {},
   "outputs": [],
   "source": [
    "#Выделим пользователей, выбравших уровень сложности игры, и создадим для них датафрейм\n",
    "level_choice_users = set(total_events18[total_events18['event_type']=='level_choice']['user_id'])\n",
    "lc_df = total_events18[total_events18['user_id'].isin(level_choice_users)]\n",
    "\n",
    "#Далее преобразуем его, оставив только время выбора уровня сложности и время начала обучения\n",
    "level = lc_df[lc_df['event_type'] == 'level_choice']\n",
    "level = level[['user_id', 'start_time']].rename(columns={'start_time':'level_choice_time'})\n",
    "\n",
    "tuto_st = lc_df[lc_df['event_type'] == 'tutorial_start']\n",
    "tuto_st = tuto_st[['user_id', 'start_time']].rename(columns={'start_time':'tutorial_start_time'})\n",
    "\n",
    "tuto_level_merged = level.merge(tuto_st, on = 'user_id', how = 'inner')"
   ]
  },
  {
   "cell_type": "code",
   "execution_count": 21,
   "metadata": {},
   "outputs": [
    {
     "data": {
      "text/plain": [
       "False    9894\n",
       "True     2792\n",
       "dtype: int64"
      ]
     },
     "execution_count": 21,
     "metadata": {},
     "output_type": "execute_result"
    }
   ],
   "source": [
    "#Выясним, сколько раз пользователи выбирали уровень сложности игры до начала обучения\n",
    "level_choice_before_tutorial = (tuto_level_merged.tutorial_start_time > tuto_level_merged.level_choice_time) \n",
    "level_choice_before_tutorial.value_counts() "
   ]
  },
  {
   "cell_type": "code",
   "execution_count": 22,
   "metadata": {},
   "outputs": [
    {
     "data": {
      "text/plain": [
       "False    0.779915\n",
       "True     0.220085\n",
       "dtype: float64"
      ]
     },
     "execution_count": 22,
     "metadata": {},
     "output_type": "execute_result"
    }
   ],
   "source": [
    "#В процентном отнощении это составит\n",
    "level_choice_before_tutorial.value_counts(normalize=True)"
   ]
  },
  {
   "cell_type": "code",
   "execution_count": 23,
   "metadata": {},
   "outputs": [
    {
     "data": {
      "text/plain": [
       "1386"
      ]
     },
     "execution_count": 23,
     "metadata": {},
     "output_type": "execute_result"
    }
   ],
   "source": [
    "#Узнаем, сколько уникальных пользователей поступали таким образом\n",
    "tuto_level_merged[tuto_level_merged.tutorial_start_time > tuto_level_merged.level_choice_time].user_id.nunique()"
   ]
  },
  {
   "cell_type": "code",
   "execution_count": 24,
   "metadata": {},
   "outputs": [
    {
     "data": {
      "image/png": "[encoded data removed]",
      "text/plain": [
       "<Figure size 432x288 with 1 Axes>"
      ]
     },
     "metadata": {},
     "output_type": "display_data"
    }
   ],
   "source": [
    "#Представим полученные результаты в виде круговой диаграммы\n",
    "labels = 'Да (2792 человека)', 'Нет(9894 человек)'\n",
    "sizes = [22, 78]\n",
    "explode = (0, 0.1)  \n",
    "\n",
    "fig1, ax1 = plt.subplots()\n",
    "ax1.pie(sizes, explode=explode, labels=labels, autopct='%1.1f%%',\n",
    "        shadow=True, startangle=90)\n",
    "ax1.axis('equal')\n",
    "ax1.set_title(\"Проходят ли игроки обучение после выбора уровня сложности?\")\n",
    "plt.show()"
   ]
  },
  {
   "cell_type": "markdown",
   "metadata": {},
   "source": [
    "**Вывод №3:**\n",
    "\n",
    "Из результатов анализа видно, что примерно **в одном случае из пяти игрок (22%)** проходит обучение после выбора уровня сложности и начала игры. Значит, для них процесс взаимодействия с игрой ясен не до конца."
   ]
  },
  {
   "cell_type": "markdown",
   "metadata": {},
   "source": [
    "### Рекомендации  \n",
    "\n",
    "Таким образом, можно сказать, что прохождение  обучения как улучшает пользовательский опыт взаимодесйствия с приложением, так и способсвует тому, чтобы игроки совершали покупки. Поэтому представляется целесообразным сделать следующее:\n",
    "- Сделать пропуск обучения сложнее для игроков, возможно, превратить его в обязаельный этап взаимодействия с игрой;\n",
    "- Пересмотреть содержание обучения и сделать его более понятным, чтобы снизить количество его повторных прохождений одним и тем же игроком."
   ]
  },
  {
   "cell_type": "code",
   "execution_count": null,
   "metadata": {},
   "outputs": [],
   "source": []
  }
 ],
 "metadata": {
  "kernelspec": {
   "display_name": "Python 3",
   "language": "python",
   "name": "python3"
  },
  "language_info": {
   "codemirror_mode": {
    "name": "ipython",
    "version": 3
   },
   "file_extension": ".py",
   "mimetype": "text/x-python",
   "name": "python",
   "nbconvert_exporter": "python",
   "pygments_lexer": "ipython3",
   "version": "3.8.5"
  }
 },
 "nbformat": 4,
 "nbformat_minor": 4
}
